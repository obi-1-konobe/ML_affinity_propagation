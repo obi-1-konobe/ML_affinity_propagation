{
 "cells": [
  {
   "cell_type": "markdown",
   "metadata": {},
   "source": [
    "# Ниязов Алдияр М19-04\n",
    "Задание 4. Кластеризация графа. Affinity propagation"
   ]
  },
  {
   "cell_type": "code",
   "execution_count": 1,
   "metadata": {},
   "outputs": [],
   "source": [
    "import numpy as np\n",
    "import matplotlib.pyplot as plt\n",
    "from random import shuffle"
   ]
  },
  {
   "cell_type": "markdown",
   "metadata": {},
   "source": [
    "## Кластеризация"
   ]
  },
  {
   "cell_type": "markdown",
   "metadata": {},
   "source": [
    "Некоторые сведения о датасете"
   ]
  },
  {
   "cell_type": "code",
   "execution_count": 2,
   "metadata": {},
   "outputs": [],
   "source": [
    "n_nodes = 196591 # количество узлов графа (пользователи)\n",
    "n_edges = 950327 # количество ребер графа (связи)\n",
    "n_check_ins = 6442890 # чекины"
   ]
  },
  {
   "cell_type": "markdown",
   "metadata": {},
   "source": [
    "Обработка данных"
   ]
  },
  {
   "cell_type": "code",
   "execution_count": 3,
   "metadata": {},
   "outputs": [],
   "source": [
    "with open('Gowalla_edges.txt', 'r') as f:\n",
    "    all_strings = f.readlines()\n",
    "edges_list = [] # список всех связей\n",
    "nodes = set() # множество всех пользователей\n",
    "s_array = [] # массив similarity (без self-similarity)\n",
    "# итерируемся по всем строкам файла\n",
    "for line in all_strings:\n",
    "    user_1, user_2 = line.split()\n",
    "    # заполняем список всех связей в формате: (кто дружит, с кем дружит)\n",
    "    edges_list.append((int(user_1), int(user_2)))\n",
    "    nodes.add((int(user_1)))\n",
    "    # каждую дружбу отмечаем 1 в similarity\n",
    "    s_array.append(1)\n",
    "# дополним список связей связями \"сам к себе\"\n",
    "for node in nodes:\n",
    "    edges_list.append((node, node))\n",
    "\n",
    "s_array = np.array(s_array, dtype=np.int8)\n",
    "all_strings = None"
   ]
  },
  {
   "cell_type": "markdown",
   "metadata": {},
   "source": [
    "Опишем функции для кластеризации"
   ]
  },
  {
   "cell_type": "code",
   "execution_count": 90,
   "metadata": {},
   "outputs": [],
   "source": [
    "def affinity_propagation(s, edges, max_iter, self_similarity):\n",
    "    # формируем массив self-similarity\n",
    "    self_s_array = np.repeat(self_similarity, n_nodes)\n",
    "    # формируем полный массив similarity (значения self-similarity будут в конце массива)\n",
    "    similarity = np.append(s, self_s_array)\n",
    "    # инициализируем нулями массивы availability и responsibility\n",
    "    responsibility = np.repeat(0, similarity.shape[0])\n",
    "    availability = np.repeat(0, similarity.shape[0])\n",
    "    \n",
    "    for iteration in range(max_iter):\n",
    "        # обновляем responsibility\n",
    "        responsibility = refresh_responsibility(similarity, availability, edges)\n",
    "        # обновляем availability\n",
    "        availability = refresh_availability(availability, responsibility, edges)\n",
    "        print(iteration)\n",
    "    # для каждого пользователя получаем экземпляр класстера\n",
    "    exemplars = get_exemplars(availability, responsibility, edges_list)\n",
    "    # производим транзитивную свертку\n",
    "    result = transitiv_convolution(exemplars)\n",
    "    \n",
    "    return result"
   ]
  },
  {
   "cell_type": "code",
   "execution_count": 5,
   "metadata": {},
   "outputs": [],
   "source": [
    "def refresh_responsibility(S, A, edges):\n",
    "    max_1 = np.repeat(-np.inf, n_nodes)\n",
    "    max_2 = np.repeat(-np.inf, n_nodes)\n",
    "    max_1_user_2 = np.repeat(np.inf, n_nodes)\n",
    "    # поэлементное сложение массивов similarity и availability\n",
    "    S_A = S + A\n",
    "    # итерируемся по списку связей\n",
    "    for idx, (user_1, user_2) in enumerate(edges):\n",
    "        # для каждого пользователя найдем 2 наибольших значения суммы s(i,j) + a(i,j)\n",
    "        if max_1[user_1] < S_A[idx]:\n",
    "            max_2[user_1] = max_1[user_1]\n",
    "            max_1[user_1] = S_A[idx]\n",
    "            # запоминаем пользователя 2 с которым у пользователя 1 максимальное s(i,j) + a(i,j)\n",
    "            max_1_user_2[user_1] = user_2\n",
    "        elif max_2[user_1] < S_A[idx]:\n",
    "            max_2[user_1] = S_A[idx]\n",
    "    # обновляем  массив responsibility\n",
    "    R = S.copy()\n",
    "\n",
    "    for idx, (user_1, user_2) in enumerate(edges):\n",
    "        if max_1_user_2[user_1] == user_2:\n",
    "            R[idx] -= max_2[user_1]\n",
    "        else:\n",
    "            R[idx] -= max_1[user_1]\n",
    "    \n",
    "    return R        "
   ]
  },
  {
   "cell_type": "code",
   "execution_count": 6,
   "metadata": {},
   "outputs": [],
   "source": [
    "def refresh_availability(A, R, edges):\n",
    "    # сохраняем только положительные r, self-r не изменяем\n",
    "    R_copy = R.copy()\n",
    "    i = 0\n",
    "    while i < n_edges * 2:\n",
    "        if R_copy[i] < 0:\n",
    "            R_copy[i] = 0\n",
    "        i += 1\n",
    "    # для каждого пользователя складываем положительные r от других пользователей\n",
    "    positive_r = np.repeat(0, n_nodes)\n",
    "    \n",
    "    for idx, (user_1, user_2) in enumerate(edges):\n",
    "        positive_r[user_2] += R_copy[idx]\n",
    "    # обновляем availability\n",
    "    for idx, (user_1, user_2) in enumerate(edges):\n",
    "        A[idx] = positive_r[user_2] - R_copy[idx]\n",
    "    \n",
    "    i = 0\n",
    "    while i < n_edges * 2:\n",
    "        A[i] = np.min([0, A[i]])\n",
    "        i += 1\n",
    "    \n",
    "    return A\n",
    "    \n",
    "        "
   ]
  },
  {
   "cell_type": "code",
   "execution_count": 7,
   "metadata": {},
   "outputs": [],
   "source": [
    "def get_exemplars(A, R, edges):\n",
    "    temp_array = np.repeat(-np.inf, n_nodes)\n",
    "    exemplars_dict = dict()\n",
    "    # поэлементное сложение массивов availability и responsibility\n",
    "    a_plus_r = A + R\n",
    "    # для каждого пользователя 1 определяем пользователя 2 c максимальным a(i,j) + r(i,j)\n",
    "    for idx, (user_1, user_2) in enumerate(edges):\n",
    "        if a_plus_r[idx] > temp_array[user_1]:\n",
    "            temp_array[user_1] = a_plus_r[idx]\n",
    "            exemplars_dict[user_1] = user_2\n",
    "    \n",
    "    return exemplars_dict\n",
    "    "
   ]
  },
  {
   "cell_type": "code",
   "execution_count": 8,
   "metadata": {},
   "outputs": [],
   "source": [
    "def transitiv_convolution(exemplars_dict):\n",
    "    for i in range(5):\n",
    "        for key in exemplars_dict.keys():\n",
    "            value = exemplars_dict[key]\n",
    "            if exemplars_dict[value] != value:\n",
    "                value_2 = exemplars_dict[value]\n",
    "                exemplars_dict[key] = value_2\n",
    "        \n",
    "    return exemplars_dict"
   ]
  },
  {
   "cell_type": "markdown",
   "metadata": {},
   "source": [
    "Кластеризуем граф"
   ]
  },
  {
   "cell_type": "code",
   "execution_count": 91,
   "metadata": {},
   "outputs": [
    {
     "name": "stdout",
     "output_type": "stream",
     "text": [
      "0\n",
      "1\n",
      "2\n",
      "3\n",
      "4\n",
      "5\n",
      "6\n",
      "7\n",
      "8\n",
      "9\n"
     ]
    }
   ],
   "source": [
    "my_exemplars = affinity_propagation(s_array, edges_list, 10, -1.5)"
   ]
  },
  {
   "cell_type": "markdown",
   "metadata": {},
   "source": [
    "Подсчитаем количество кластеров:"
   ]
  },
  {
   "cell_type": "code",
   "execution_count": 93,
   "metadata": {},
   "outputs": [],
   "source": [
    "some_set = set()\n",
    "for i in my_exemplars.values():\n",
    "    some_set.add(i)"
   ]
  },
  {
   "cell_type": "code",
   "execution_count": 94,
   "metadata": {},
   "outputs": [
    {
     "data": {
      "text/plain": [
       "17955"
      ]
     },
     "execution_count": 94,
     "metadata": {},
     "output_type": "execute_result"
    }
   ],
   "source": [
    "len(some_set)"
   ]
  },
  {
   "cell_type": "markdown",
   "metadata": {},
   "source": [
    "## Визуализация размеров класстеров"
   ]
  },
  {
   "cell_type": "markdown",
   "metadata": {},
   "source": [
    "Получим размеры каждого кластера"
   ]
  },
  {
   "cell_type": "code",
   "execution_count": 95,
   "metadata": {},
   "outputs": [],
   "source": [
    "cluster_size = dict()\n",
    "for exemplar in my_exemplars.values():\n",
    "    if exemplar not in cluster_size:\n",
    "        cluster_size[exemplar] = 1\n",
    "    else:\n",
    "        cluster_size[exemplar] += 1"
   ]
  },
  {
   "cell_type": "markdown",
   "metadata": {},
   "source": [
    "Визуализация всех размеров кластеров"
   ]
  },
  {
   "cell_type": "code",
   "execution_count": 97,
   "metadata": {},
   "outputs": [
    {
     "data": {
      "image/png": "[encoded data removed]",
      "text/plain": [
       "<Figure size 432x288 with 1 Axes>"
      ]
     },
     "metadata": {},
     "output_type": "display_data"
    }
   ],
   "source": [
    "%matplotlib inline\n",
    "plt.hist(cluster_size.values(), bins=100)\n",
    "plt.show()"
   ]
  },
  {
   "cell_type": "markdown",
   "metadata": {},
   "source": [
    "Из-за большого разброса в значениях трудно оценить размеры кластеров. Однако видно что большая часть значений находится ближе к 0"
   ]
  },
  {
   "cell_type": "markdown",
   "metadata": {},
   "source": [
    "размер самого большого кластера:"
   ]
  },
  {
   "cell_type": "code",
   "execution_count": 98,
   "metadata": {},
   "outputs": [
    {
     "data": {
      "text/plain": [
       "16100"
      ]
     },
     "execution_count": 98,
     "metadata": {},
     "output_type": "execute_result"
    }
   ],
   "source": [
    "max(cluster_size.values())"
   ]
  },
  {
   "cell_type": "markdown",
   "metadata": {},
   "source": [
    "размер самого маленького кластера:"
   ]
  },
  {
   "cell_type": "code",
   "execution_count": 99,
   "metadata": {},
   "outputs": [
    {
     "data": {
      "text/plain": [
       "1"
      ]
     },
     "execution_count": 99,
     "metadata": {},
     "output_type": "execute_result"
    }
   ],
   "source": [
    "min(cluster_size.values())"
   ]
  },
  {
   "cell_type": "markdown",
   "metadata": {},
   "source": [
    "Визуализируем наиболее распространенные размеры кластеров"
   ]
  },
  {
   "cell_type": "code",
   "execution_count": 100,
   "metadata": {},
   "outputs": [
    {
     "data": {
      "image/png": "[encoded data removed]",
      "text/plain": [
       "<Figure size 432x288 with 1 Axes>"
      ]
     },
     "metadata": {},
     "output_type": "display_data"
    }
   ],
   "source": [
    "plt.hist(cluster_size.values(), bins=100, range=(0, 100))\n",
    "plt.show()"
   ]
  },
  {
   "cell_type": "markdown",
   "metadata": {},
   "source": [
    "## Валидация"
   ]
  },
  {
   "cell_type": "markdown",
   "metadata": {},
   "source": [
    "Обработка данных по чекинам"
   ]
  },
  {
   "cell_type": "code",
   "execution_count": 59,
   "metadata": {},
   "outputs": [],
   "source": [
    "with open('Gowalla_totalCheckins.txt', 'r') as f:\n",
    "    all_strings = f.readlines()\n",
    "\n",
    "check_ins = []\n",
    "for string in all_strings:\n",
    "    user = int(string.split()[0])\n",
    "    location = int(string.split()[-1])\n",
    "    check_ins.append((user, location))\n",
    "all_strings = None"
   ]
  },
  {
   "cell_type": "markdown",
   "metadata": {},
   "source": [
    "Перемешаем чекины"
   ]
  },
  {
   "cell_type": "code",
   "execution_count": 60,
   "metadata": {},
   "outputs": [],
   "source": [
    "shuffle(check_ins)"
   ]
  },
  {
   "cell_type": "markdown",
   "metadata": {},
   "source": [
    "Определим количество пользователей, оставлявших чекины"
   ]
  },
  {
   "cell_type": "code",
   "execution_count": 61,
   "metadata": {},
   "outputs": [],
   "source": [
    "some_set = set()\n",
    "for check_in in check_ins:\n",
    "    some_set.add(check_in[0])"
   ]
  },
  {
   "cell_type": "code",
   "execution_count": 62,
   "metadata": {},
   "outputs": [
    {
     "data": {
      "text/plain": [
       "107092"
      ]
     },
     "execution_count": 62,
     "metadata": {},
     "output_type": "execute_result"
    }
   ],
   "source": [
    "len(some_set)"
   ]
  },
  {
   "cell_type": "markdown",
   "metadata": {},
   "source": [
    "Для валидации разделим выборку пользователей на тестовую и тренеровочную. Тестовую выборку определим в 10000."
   ]
  },
  {
   "cell_type": "code",
   "execution_count": 63,
   "metadata": {},
   "outputs": [],
   "source": [
    "test_users = set()\n",
    "train_users = set()\n",
    "for check_in in check_ins:\n",
    "    user = check_in[0]\n",
    "    if len(test_users) <= 10000:\n",
    "        test_users.add(user)\n",
    "    elif user not in test_users:\n",
    "        train_users.add(user)"
   ]
  },
  {
   "cell_type": "markdown",
   "metadata": {},
   "source": [
    "В качестве baseline возьмем гипотезу о том, что все пользователи находятся в 1 кластере. Мерить качество будем мерить метрикой precision@10. На тренеровочной выборке определим 10 локаций с самым большим числом чекинов."
   ]
  },
  {
   "cell_type": "code",
   "execution_count": 64,
   "metadata": {},
   "outputs": [],
   "source": [
    "locations = dict()\n",
    "for (user, location) in check_ins:\n",
    "    if user in train_users:\n",
    "        if location not in locations.keys():\n",
    "            locations[location] = 1\n",
    "        else:\n",
    "            locations[location] += 1"
   ]
  },
  {
   "cell_type": "markdown",
   "metadata": {},
   "source": [
    "Отсортируем локации в порядке убывания количества чекинов"
   ]
  },
  {
   "cell_type": "code",
   "execution_count": 65,
   "metadata": {},
   "outputs": [],
   "source": [
    "locations = [[k, v] for k, v in sorted(locations.items(), key=lambda item: item[1], reverse=True)]"
   ]
  },
  {
   "cell_type": "markdown",
   "metadata": {},
   "source": [
    "Определим топ-10 локаций для рекомендаций"
   ]
  },
  {
   "cell_type": "code",
   "execution_count": 66,
   "metadata": {},
   "outputs": [],
   "source": [
    "k = 10\n",
    "top_k_locations = [location[0] for location in locations[:k]]"
   ]
  },
  {
   "cell_type": "code",
   "execution_count": 67,
   "metadata": {},
   "outputs": [
    {
     "data": {
      "text/plain": [
       "[55033, 19542, 9410, 10259, 58725, 66171, 14470, 10190, 9246, 23256]"
      ]
     },
     "execution_count": 67,
     "metadata": {},
     "output_type": "execute_result"
    }
   ],
   "source": [
    "top_k_locations"
   ]
  },
  {
   "cell_type": "markdown",
   "metadata": {},
   "source": [
    "Рассчитаем precision@10 для baseline"
   ]
  },
  {
   "cell_type": "code",
   "execution_count": 68,
   "metadata": {},
   "outputs": [],
   "source": [
    "hits = 0\n",
    "for (user, location) in check_ins:\n",
    "    if user in test_users:\n",
    "        if location in top_k_locations:\n",
    "            hits += 1\n",
    "precision_10 = hits / k / len(test_users)"
   ]
  },
  {
   "cell_type": "code",
   "execution_count": 69,
   "metadata": {},
   "outputs": [
    {
     "data": {
      "text/plain": [
       "0.1271972802719728"
      ]
     },
     "execution_count": 69,
     "metadata": {},
     "output_type": "execute_result"
    }
   ],
   "source": [
    "precision_10"
   ]
  },
  {
   "cell_type": "markdown",
   "metadata": {},
   "source": [
    "Применим наше предположение о распределении пользователей по кластерам. Расчитаем количество чекинов в каждой локации для каждого кластера."
   ]
  },
  {
   "cell_type": "code",
   "execution_count": 101,
   "metadata": {},
   "outputs": [],
   "source": [
    "locations_by_clusters = dict()\n",
    "for (user, location) in check_ins:\n",
    "    if user in train_users:\n",
    "        exemplar = my_exemplars[user]\n",
    "        \n",
    "        if exemplar not in locations_by_clusters.keys():\n",
    "            locations_by_clusters[exemplar] = dict()\n",
    "            \n",
    "        else:\n",
    "            if location not in locations_by_clusters[exemplar].keys():\n",
    "                locations_by_clusters[exemplar][location] = 1\n",
    "            else:\n",
    "                locations_by_clusters[exemplar][location] += 1"
   ]
  },
  {
   "cell_type": "markdown",
   "metadata": {},
   "source": [
    "Отсортируем локации по убыванию количества чекинов и определим топ-10 локаций для каждого кластера."
   ]
  },
  {
   "cell_type": "code",
   "execution_count": 102,
   "metadata": {},
   "outputs": [],
   "source": [
    "top_k_locations_for_clusters = dict()\n",
    "for exemplar in locations_by_clusters:\n",
    "    locations_by_clusters[exemplar] = [[k, v] for k, v in sorted(locations_by_clusters[exemplar].items(), key=lambda item: item[1], reverse=True)]\n",
    "for exemplar in locations_by_clusters:\n",
    "    top_k_locations_for_clusters[exemplar] = [location[0] for location in locations_by_clusters[exemplar][:k]]"
   ]
  },
  {
   "cell_type": "code",
   "execution_count": 103,
   "metadata": {},
   "outputs": [
    {
     "data": {
      "text/plain": [
       "[9410, 19542, 9246, 9247, 9241, 10259, 209161, 23256, 10190, 40692]"
      ]
     },
     "execution_count": 103,
     "metadata": {},
     "output_type": "execute_result"
    }
   ],
   "source": [
    "top_k_locations_for_clusters[0]"
   ]
  },
  {
   "cell_type": "markdown",
   "metadata": {},
   "source": [
    "Рассчитаем precision@10 с применением кластеризации"
   ]
  },
  {
   "cell_type": "code",
   "execution_count": 104,
   "metadata": {},
   "outputs": [],
   "source": [
    "hits = 0\n",
    "for (user, location) in check_ins:\n",
    "    if user in test_users:\n",
    "        exemplar = my_exemplars[user]\n",
    "        if exemplar in top_k_locations_for_clusters and location in top_k_locations_for_clusters[exemplar]:\n",
    "            hits += 1\n",
    "precision_10 = hits / k / len(test_users)"
   ]
  },
  {
   "cell_type": "code",
   "execution_count": 105,
   "metadata": {},
   "outputs": [
    {
     "data": {
      "text/plain": [
       "0.43595640435956406"
      ]
     },
     "execution_count": 105,
     "metadata": {},
     "output_type": "execute_result"
    }
   ],
   "source": [
    "precision_10"
   ]
  },
  {
   "cell_type": "markdown",
   "metadata": {},
   "source": [
    "Результат:\n",
    "\n",
    "self-similarity: -1.5\n",
    "\n",
    "итераций: 10\n",
    "\n",
    "количество кластеров: 17955\n",
    "\n",
    "precision@10 для baseline: 0.13\n",
    "\n",
    "precision@10 для кластеров: 0.44"
   ]
  },
  {
   "cell_type": "code",
   "execution_count": null,
   "metadata": {},
   "outputs": [],
   "source": []
  },
  {
   "cell_type": "code",
   "execution_count": null,
   "metadata": {},
   "outputs": [],
   "source": []
  },
  {
   "cell_type": "code",
   "execution_count": null,
   "metadata": {},
   "outputs": [],
   "source": []
  }
 ],
 "metadata": {
  "kernelspec": {
   "display_name": "Python 3",
   "language": "python",
   "name": "python3"
  },
  "language_info": {
   "codemirror_mode": {
    "name": "ipython",
    "version": 3
   },
   "file_extension": ".py",
   "mimetype": "text/x-python",
   "name": "python",
   "nbconvert_exporter": "python",
   "pygments_lexer": "ipython3",
   "version": "3.6.7"
  }
 },
 "nbformat": 4,
 "nbformat_minor": 2
}
